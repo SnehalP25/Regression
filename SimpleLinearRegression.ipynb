{
  "nbformat": 4,
  "nbformat_minor": 0,
  "metadata": {
    "colab": {
      "name": "SimpleLinearRegression.ipynb",
      "provenance": [],
      "collapsed_sections": []
    },
    "kernelspec": {
      "name": "python3",
      "display_name": "Python 3"
    }
  },
  "cells": [
    {
      "cell_type": "code",
      "metadata": {
        "id": "pPGU0RFprI1O"
      },
      "source": [
        "import pandas as pd"
      ],
      "execution_count": null,
      "outputs": []
    },
    {
      "cell_type": "code",
      "metadata": {
        "id": "P0Dj9a38y7pu"
      },
      "source": [
        "from math import sqrt"
      ],
      "execution_count": null,
      "outputs": []
    },
    {
      "cell_type": "code",
      "metadata": {
        "id": "Rp7LA8Bh0cOO"
      },
      "source": [
        "dataset = [[1, 1], [2, 3], [4, 3], [3, 2], [5, 5]]"
      ],
      "execution_count": null,
      "outputs": []
    },
    {
      "cell_type": "code",
      "metadata": {
        "id": "jrVwtLNAzG4y"
      },
      "source": [
        "def mean(values):\n",
        "  a=sum(values)/float(len(values))\n",
        "  return a\n",
        "\n",
        "def covariance(X,x_mean,Y,y_mean):\n",
        "  co=0\n",
        "  for i in range(len(X)):\n",
        "    co+= (X[i]-x_mean)*(Y[i]-y_mean)\n",
        "  return co\n",
        "\n",
        "def variance(values,mean):\n",
        "  v=sum([(X-mean)**2 for X in values])\n",
        "  return v\n"
      ],
      "execution_count": null,
      "outputs": []
    },
    {
      "cell_type": "code",
      "metadata": {
        "id": "zp95xW3v0iK3"
      },
      "source": [
        "def coefficiant(dataset):\n",
        "  X=[row[0] for row in dataset]\n",
        "  Y=[row[1] for row in dataset]\n",
        "  x_mean ,y_mean=mean(X) ,mean(Y)\n",
        "  b1=covariance(X,x_mean,Y,y_mean)/variance(X,x_mean)\n",
        "  b0=y_mean-b1*x_mean\n",
        "  return [b0,b1]\n",
        "  \n"
      ],
      "execution_count": null,
      "outputs": []
    },
    {
      "cell_type": "code",
      "metadata": {
        "colab": {
          "base_uri": "https://localhost:8080/"
        },
        "id": "Dncc5Ym33LJW",
        "outputId": "fa831a4e-d3d9-44cc-c2f4-24138d6df6f6"
      },
      "source": [
        "coefficiant(dataset)"
      ],
      "execution_count": null,
      "outputs": [
        {
          "output_type": "execute_result",
          "data": {
            "text/plain": [
              "[0.39999999999999947, 0.8]"
            ]
          },
          "metadata": {
            "tags": []
          },
          "execution_count": 76
        }
      ]
    },
    {
      "cell_type": "code",
      "metadata": {
        "id": "U8JtefZrHMSe"
      },
      "source": [
        "def simpleLR(train,test):\n",
        "  prediction=list()\n",
        "  b0,b1=coefficiant(train)\n",
        "  for row in test:\n",
        "    ypred=b0+b1*row[0]\n",
        "    prediction.append(ypred)\n",
        "  return prediction  "
      ],
      "execution_count": null,
      "outputs": []
    },
    {
      "cell_type": "code",
      "metadata": {
        "id": "e5z8ayokHMNl"
      },
      "source": [
        "def rmse_m(predicted,actual):\n",
        "  sum_error=0.0\n",
        "  for i in range(len(actual)):\n",
        "    prediction_error=predicted[i] - actual[i]\n",
        "    sum_error+=(prediction_error ** 2)\n",
        "  mean_error=sum_error/ float(len(actual))\n",
        "  return sqrt(mean_error)  "
      ],
      "execution_count": null,
      "outputs": []
    },
    {
      "cell_type": "code",
      "metadata": {
        "id": "zZzZz7qIOQyj"
      },
      "source": [
        "def evaluate_algorithm(dataset, algorithm):\n",
        "    test_set = list()\n",
        "    for row in dataset:\n",
        "        row_copy = list(row)\n",
        "        row_copy[-1] = None\n",
        "        test_set.append(row_copy)\n",
        "    predicted = algorithm(dataset, test_set)\n",
        "    print(predicted)\n",
        "    actual = [row[-1] for row in dataset]\n",
        "    rmse = rmse_m(actual, predicted)\n",
        "    return rmse"
      ],
      "execution_count": null,
      "outputs": []
    },
    {
      "cell_type": "code",
      "metadata": {
        "colab": {
          "base_uri": "https://localhost:8080/"
        },
        "id": "39vRPMJWSpK2",
        "outputId": "da381ce1-4b54-4395-8b97-cfca642951ba"
      },
      "source": [
        "# Test simple linear regression\n",
        "dataset = [[1, 1], [2, 3], [4, 3], [3, 2], [5, 5]]\n",
        "rmse = evaluate_algorithm(dataset, simpleLR)\n",
        "print('Root Mean Squared error RMSE: %.3f' % (rmse))"
      ],
      "execution_count": null,
      "outputs": [
        {
          "output_type": "stream",
          "text": [
            "[1.1999999999999995, 1.9999999999999996, 3.5999999999999996, 2.8, 4.3999999999999995]\n",
            "Root Mean Squared error RMSE: 0.693\n"
          ],
          "name": "stdout"
        }
      ]
    },
    {
      "cell_type": "markdown",
      "metadata": {
        "id": "DqgN2OWAWWHT"
      },
      "source": [
        "# Simple linear Regression------------"
      ]
    },
    {
      "cell_type": "code",
      "metadata": {
        "colab": {
          "base_uri": "https://localhost:8080/",
          "height": 419
        },
        "id": "T8HM2DIUCoMK",
        "outputId": "974127be-fd81-4349-b1a0-60da41496265"
      },
      "source": [
        "df = pd.read_csv(\"AutoInsurSweden.txt\",sep=\"\\t\",skiprows=9)\n",
        "df"
      ],
      "execution_count": null,
      "outputs": [
        {
          "output_type": "execute_result",
          "data": {
            "text/html": [
              "<div>\n",
              "<style scoped>\n",
              "    .dataframe tbody tr th:only-of-type {\n",
              "        vertical-align: middle;\n",
              "    }\n",
              "\n",
              "    .dataframe tbody tr th {\n",
              "        vertical-align: top;\n",
              "    }\n",
              "\n",
              "    .dataframe thead th {\n",
              "        text-align: right;\n",
              "    }\n",
              "</style>\n",
              "<table border=\"1\" class=\"dataframe\">\n",
              "  <thead>\n",
              "    <tr style=\"text-align: right;\">\n",
              "      <th></th>\n",
              "      <th>X</th>\n",
              "      <th>Y</th>\n",
              "    </tr>\n",
              "  </thead>\n",
              "  <tbody>\n",
              "    <tr>\n",
              "      <th>0</th>\n",
              "      <td>108</td>\n",
              "      <td>392,5</td>\n",
              "    </tr>\n",
              "    <tr>\n",
              "      <th>1</th>\n",
              "      <td>19</td>\n",
              "      <td>46,2</td>\n",
              "    </tr>\n",
              "    <tr>\n",
              "      <th>2</th>\n",
              "      <td>13</td>\n",
              "      <td>15,7</td>\n",
              "    </tr>\n",
              "    <tr>\n",
              "      <th>3</th>\n",
              "      <td>124</td>\n",
              "      <td>422,2</td>\n",
              "    </tr>\n",
              "    <tr>\n",
              "      <th>4</th>\n",
              "      <td>40</td>\n",
              "      <td>119,4</td>\n",
              "    </tr>\n",
              "    <tr>\n",
              "      <th>...</th>\n",
              "      <td>...</td>\n",
              "      <td>...</td>\n",
              "    </tr>\n",
              "    <tr>\n",
              "      <th>58</th>\n",
              "      <td>9</td>\n",
              "      <td>87,4</td>\n",
              "    </tr>\n",
              "    <tr>\n",
              "      <th>59</th>\n",
              "      <td>31</td>\n",
              "      <td>209,8</td>\n",
              "    </tr>\n",
              "    <tr>\n",
              "      <th>60</th>\n",
              "      <td>14</td>\n",
              "      <td>95,5</td>\n",
              "    </tr>\n",
              "    <tr>\n",
              "      <th>61</th>\n",
              "      <td>53</td>\n",
              "      <td>244,6</td>\n",
              "    </tr>\n",
              "    <tr>\n",
              "      <th>62</th>\n",
              "      <td>26</td>\n",
              "      <td>187,5</td>\n",
              "    </tr>\n",
              "  </tbody>\n",
              "</table>\n",
              "<p>63 rows × 2 columns</p>\n",
              "</div>"
            ],
            "text/plain": [
              "      X      Y\n",
              "0   108  392,5\n",
              "1    19   46,2\n",
              "2    13   15,7\n",
              "3   124  422,2\n",
              "4    40  119,4\n",
              "..  ...    ...\n",
              "58    9   87,4\n",
              "59   31  209,8\n",
              "60   14   95,5\n",
              "61   53  244,6\n",
              "62   26  187,5\n",
              "\n",
              "[63 rows x 2 columns]"
            ]
          },
          "metadata": {
            "tags": []
          },
          "execution_count": 115
        }
      ]
    },
    {
      "cell_type": "code",
      "metadata": {
        "colab": {
          "base_uri": "https://localhost:8080/"
        },
        "id": "kdd2-K2dKP0V",
        "outputId": "a6009163-8bf2-4228-c621-5d4c671774ae"
      },
      "source": [
        "df.Y=df.Y.str.replace(',','.')#replace , with .\n",
        "df.dtypes"
      ],
      "execution_count": null,
      "outputs": [
        {
          "output_type": "execute_result",
          "data": {
            "text/plain": [
              "X     int64\n",
              "Y    object\n",
              "dtype: object"
            ]
          },
          "metadata": {
            "tags": []
          },
          "execution_count": 116
        }
      ]
    },
    {
      "cell_type": "code",
      "metadata": {
        "id": "DNwIN1W4KrIo"
      },
      "source": [
        "df.Y=df.Y.astype(float)#chnage y datatype"
      ],
      "execution_count": null,
      "outputs": []
    },
    {
      "cell_type": "code",
      "metadata": {
        "colab": {
          "base_uri": "https://localhost:8080/"
        },
        "id": "Vyx7A25NKpsH",
        "outputId": "45c944f9-e1c8-4c33-ce3c-2f885818e1b0"
      },
      "source": [
        "df.dtypes"
      ],
      "execution_count": null,
      "outputs": [
        {
          "output_type": "execute_result",
          "data": {
            "text/plain": [
              "X      int64\n",
              "Y    float64\n",
              "dtype: object"
            ]
          },
          "metadata": {
            "tags": []
          },
          "execution_count": 118
        }
      ]
    },
    {
      "cell_type": "code",
      "metadata": {
        "id": "IptIYqx3DVju"
      },
      "source": [
        "X=df[['X']] #X=column x values\n",
        "Y=df['Y'] #Y=column y values       "
      ],
      "execution_count": null,
      "outputs": []
    },
    {
      "cell_type": "code",
      "metadata": {
        "id": "eY3sF-vuEjaf"
      },
      "source": [
        "from sklearn.model_selection import train_test_split"
      ],
      "execution_count": null,
      "outputs": []
    },
    {
      "cell_type": "code",
      "metadata": {
        "id": "VED4gikuEZVq"
      },
      "source": [
        "\n",
        "x_train,x_test,y_train,y_test = train_test_split(X,Y, test_size  = 0.3, random_state =7)"
      ],
      "execution_count": null,
      "outputs": []
    },
    {
      "cell_type": "code",
      "metadata": {
        "id": "wGkorQ07LXQN"
      },
      "source": [
        "from sklearn.linear_model import LinearRegression"
      ],
      "execution_count": null,
      "outputs": []
    },
    {
      "cell_type": "code",
      "metadata": {
        "colab": {
          "base_uri": "https://localhost:8080/"
        },
        "id": "FaLggc_CPQVv",
        "outputId": "6890ec6d-b51e-4d75-9590-d2ad1f49b5bb"
      },
      "source": [
        "type(x_train),type([df.X])"
      ],
      "execution_count": null,
      "outputs": [
        {
          "output_type": "execute_result",
          "data": {
            "text/plain": [
              "(pandas.core.frame.DataFrame, list)"
            ]
          },
          "metadata": {
            "tags": []
          },
          "execution_count": 185
        }
      ]
    },
    {
      "cell_type": "code",
      "metadata": {
        "colab": {
          "base_uri": "https://localhost:8080/"
        },
        "id": "JG4v_I99L3iO",
        "outputId": "9c52b372-187d-4669-be63-553b8da98b8c"
      },
      "source": [
        "reg=LinearRegression()#representing LinearRegression as reg\n",
        "reg.fit(x_train, y_train)# fit this model using ref.fit()\n"
      ],
      "execution_count": null,
      "outputs": [
        {
          "output_type": "execute_result",
          "data": {
            "text/plain": [
              "LinearRegression(copy_X=True, fit_intercept=True, n_jobs=None, normalize=False)"
            ]
          },
          "metadata": {
            "tags": []
          },
          "execution_count": 212
        }
      ]
    },
    {
      "cell_type": "code",
      "metadata": {
        "colab": {
          "base_uri": "https://localhost:8080/"
        },
        "id": "Ko2OWYzIQ92U",
        "outputId": "e0f6d1ac-67dc-4094-c8db-785ec97cfa70"
      },
      "source": [
        "reg.coef_,reg.intercept_  #coef_=m/b1.  and intercept_=c/b0"
      ],
      "execution_count": null,
      "outputs": [
        {
          "output_type": "execute_result",
          "data": {
            "text/plain": [
              "(array([3.33602385]), 23.75472726509068)"
            ]
          },
          "metadata": {
            "tags": []
          },
          "execution_count": 213
        }
      ]
    },
    {
      "cell_type": "code",
      "metadata": {
        "id": "uj2bNd9DRHqP"
      },
      "source": [
        "ypred=reg.predict(x_test)\n",
        "#actual output is sitting in y_test\n",
        "#in x_test we did prediction\n",
        "#prediction output is sitting in ypred"
      ],
      "execution_count": null,
      "outputs": []
    },
    {
      "cell_type": "code",
      "metadata": {
        "colab": {
          "base_uri": "https://localhost:8080/"
        },
        "id": "olh-lRhsS7oM",
        "outputId": "f3b21fe8-17fc-45f0-ac41-4dc65684bf46"
      },
      "source": [
        "X.shape,Y.shape"
      ],
      "execution_count": null,
      "outputs": [
        {
          "output_type": "execute_result",
          "data": {
            "text/plain": [
              "((63, 1), (63, 1))"
            ]
          },
          "metadata": {
            "tags": []
          },
          "execution_count": 189
        }
      ]
    },
    {
      "cell_type": "code",
      "metadata": {
        "colab": {
          "base_uri": "https://localhost:8080/",
          "height": 296
        },
        "id": "36tu4NU9Sw0i",
        "outputId": "41b60f62-fb8a-49e0-d1ad-feccf8f304d7"
      },
      "source": [
        "import matplotlib.pyplot as plt\n",
        "\n",
        "df.plot(x='X',y='Y',kind='scatter')"
      ],
      "execution_count": null,
      "outputs": [
        {
          "output_type": "execute_result",
          "data": {
            "text/plain": [
              "<matplotlib.axes._subplots.AxesSubplot at 0x7fbe45a96f60>"
            ]
          },
          "metadata": {
            "tags": []
          },
          "execution_count": 190
        },
        {
          "output_type": "display_data",
          "data": {
            "image/png": "[encoded data removed]",
            "text/plain": [
              "<Figure size 432x288 with 1 Axes>"
            ]
          },
          "metadata": {
            "tags": [],
            "needs_background": "light"
          }
        }
      ]
    },
    {
      "cell_type": "code",
      "metadata": {
        "colab": {
          "base_uri": "https://localhost:8080/",
          "height": 282
        },
        "id": "A03yyoUtVt5o",
        "outputId": "aece9bf8-7c17-4579-f4ab-fd47ab493e6d"
      },
      "source": [
        "plt.plot(y_test,color=\"blue\",linestyle=\"solid\")\n",
        "plt.plot(ypred,color=\"red\",linestyle=\"solid\")\n",
        "fig=plt.figure()"
      ],
      "execution_count": null,
      "outputs": [
        {
          "output_type": "display_data",
          "data": {
            "image/png": "[encoded data removed]",
            "text/plain": [
              "<Figure size 432x288 with 1 Axes>"
            ]
          },
          "metadata": {
            "tags": [],
            "needs_background": "light"
          }
        },
        {
          "output_type": "display_data",
          "data": {
            "text/plain": [
              "<Figure size 432x288 with 0 Axes>"
            ]
          },
          "metadata": {
            "tags": []
          }
        }
      ]
    },
    {
      "cell_type": "code",
      "metadata": {
        "colab": {
          "base_uri": "https://localhost:8080/",
          "height": 282
        },
        "id": "NfXMhlWlVFfA",
        "outputId": "f5f0570f-37b9-4089-9b9b-d613122d741b"
      },
      "source": [
        "plt.plot(y_test,ypred,color=\"blue\",linestyle=\"-\")\n",
        "fig=plt.figure()"
      ],
      "execution_count": null,
      "outputs": [
        {
          "output_type": "display_data",
          "data": {
            "image/png": "[encoded data removed]",
            "text/plain": [
              "<Figure size 432x288 with 1 Axes>"
            ]
          },
          "metadata": {
            "tags": [],
            "needs_background": "light"
          }
        },
        {
          "output_type": "display_data",
          "data": {
            "text/plain": [
              "<Figure size 432x288 with 0 Axes>"
            ]
          },
          "metadata": {
            "tags": []
          }
        }
      ]
    },
    {
      "cell_type": "code",
      "metadata": {
        "id": "5OlTWcgRRUKI"
      },
      "source": [
        "from sklearn.metrics import mean_squared_error,r2_score\n",
        "mse=mean_squared_error(y_test,ypred)\n",
        "r_squared=r2_score(y_test,ypred)"
      ],
      "execution_count": null,
      "outputs": []
    },
    {
      "cell_type": "code",
      "metadata": {
        "colab": {
          "base_uri": "https://localhost:8080/"
        },
        "id": "RhY5OyQoST8u",
        "outputId": "94f5e007-c64c-459d-c67e-683edd2c6704"
      },
      "source": [
        "sqrt(mse),r_squared \n",
        "# mse is your model not going to match 35.86% of values\n",
        "#r_squared =0.66 means 66% matches  that is good model"
      ],
      "execution_count": null,
      "outputs": [
        {
          "output_type": "execute_result",
          "data": {
            "text/plain": [
              "(35.86275705806889, 0.6691263944969422)"
            ]
          },
          "metadata": {
            "tags": []
          },
          "execution_count": 192
        }
      ]
    }
  ]
}